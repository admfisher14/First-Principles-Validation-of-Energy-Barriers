{
 "cells": [
  {
   "cell_type": "code",
   "execution_count": null,
   "metadata": {},
   "outputs": [],
   "source": [
    "import ase.io.lammpsdata as io\n",
    "from ase.visualize import view#\n",
    "import os\n",
    "import numpy as np\n",
    "import ase.io as ase\n",
    "cell_size = 14.1328\n",
    "\n",
    "tol = cell_size/8.0\n",
    "cell = cell_size/(8.0)\n"
   ]
  },
  {
   "cell_type": "code",
   "execution_count": null,
   "metadata": {},
   "outputs": [],
   "source": [
    "def cell_cutter(initial,final,stepafter):\n",
    "\n",
    "    atoms = io.read_lammps_data(initial,style=\"atomic\")\n",
    "    nextatoms = io.read_lammps_data(final,style=\"atomic\")\n",
    "    afteratoms = io.read_lammps_data(stepafter,style=\"atomic\")\n",
    "\n",
    "    diff = atoms.get_positions()-nextatoms.get_positions()\n",
    "    store = 0\n",
    "    entry = []\n",
    "    for i in diff:\n",
    "        current = np.linalg.norm(i)\n",
    "        if current > 1.0:\n",
    "            store = i\n",
    "            entry.append(i)\n",
    "            \n",
    "    atom_pos =atoms.get_positions()[np.where(store==diff)[0][0]]\n",
    "    afteratom_pos =afteratoms.get_positions()[np.where(store==diff)[0][0]]\n",
    "\n",
    "\n",
    "    return  len(entry),nextatoms.get_positions()[np.where(store==diff)[0][0]],atom_pos,afteratom_pos\n",
    "    \n"
   ]
  },
  {
   "cell_type": "code",
   "execution_count": null,
   "metadata": {},
   "outputs": [],
   "source": [
    "noSteps = 500\n",
    "\n",
    "vac_pos = np.zeros((noSteps,3))\n",
    "pos = np.zeros((noSteps,3))\n",
    "pos_after = np.zeros((noSteps,3))\n",
    "no_atoms = []\n",
    "for i in range(noSteps-2):\n",
    "    initial = \"steps/step{}.txt\".format(i)\n",
    "    final = \"steps/step{}.txt\".format(i+1)\n",
    "    after = \"steps/step{}.txt\".format(i+2)\n",
    "    res = cell_cutter(initial,final,after)\n",
    "    vac_pos[i,:] = res[1]\n",
    "    no_atoms.append(res[0])\n",
    "    pos[i,:] = res[2]\n",
    "    pos_after[i,:] = res[3]\n",
    "    "
   ]
  },
  {
   "cell_type": "code",
   "execution_count": null,
   "metadata": {},
   "outputs": [],
   "source": [
    "# Code identifies end of flickers, is broken by flickers that are a cycle >2\n",
    "\n",
    "prev = np.array([-1,-1,-1])\n",
    "minustwo = np.array([-1,-1,-1])\n",
    "minus3 = np.array([-1,-1,-1])\n",
    "flickers = []\n",
    "index = 0\n",
    "p=0\n",
    "for i in vac_pos:\n",
    "\n",
    "    arr = [index,index-1,index-2,index-3]\n",
    "    if np.all(np.abs(prev-minus3)<tol) and np.any(np.abs(minustwo-i)>tol) and \\\n",
    "    not(np.any(np.isin(np.where(np.array(no_atoms)>1)[0],arr))) and \\\n",
    "    index!=4 and index!=0 \\\n",
    "    and np.all(pos[index-3]-pos_after[index-3]<tol):\n",
    "        \n",
    "        \n",
    "        print(minus3,minustwo,prev,np.around(i,decimals=1),index,index-1,index-2,index-3)\n",
    "        flickers.append([index,index-1,index-2,index-3])\n",
    "    index +=1\n",
    "    minus3=minustwo\n",
    "    minustwo = prev\n",
    "    prev = np.around(i,decimals=1)\n"
   ]
  }
 ],
 "metadata": {
  "kernelspec": {
   "display_name": "Python 3",
   "language": "python",
   "name": "python3"
  },
  "language_info": {
   "codemirror_mode": {
    "name": "ipython",
    "version": 3
   },
   "file_extension": ".py",
   "mimetype": "text/x-python",
   "name": "python",
   "nbconvert_exporter": "python",
   "pygments_lexer": "ipython3",
   "version": "3.8.10"
  },
  "varInspector": {
   "cols": {
    "lenName": 16,
    "lenType": 16,
    "lenVar": 40
   },
   "kernels_config": {
    "python": {
     "delete_cmd_postfix": "",
     "delete_cmd_prefix": "del ",
     "library": "var_list.py",
     "varRefreshCmd": "print(var_dic_list())"
    },
    "r": {
     "delete_cmd_postfix": ") ",
     "delete_cmd_prefix": "rm(",
     "library": "var_list.r",
     "varRefreshCmd": "cat(var_dic_list()) "
    }
   },
   "oldHeight": 122.85,
   "position": {
    "height": "40px",
    "left": "1578px",
    "right": "20px",
    "top": "120px",
    "width": "250px"
   },
   "types_to_exclude": [
    "module",
    "function",
    "builtin_function_or_method",
    "instance",
    "_Feature"
   ],
   "varInspector_section_display": "none",
   "window_display": true
  }
 },
 "nbformat": 4,
 "nbformat_minor": 4
}
