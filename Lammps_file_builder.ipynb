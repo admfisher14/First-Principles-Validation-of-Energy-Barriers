{
 "cells": [
  {
   "cell_type": "code",
   "execution_count": 1,
   "metadata": {},
   "outputs": [],
   "source": [
    "import numpy as np\n",
    "import sys\n",
    "import os"
   ]
  },
  {
   "cell_type": "code",
   "execution_count": 1,
   "metadata": {},
   "outputs": [],
   "source": [
    "list1 =[] #list of barriers to be compared against dft\n",
    "KIMID = \"EAM_Dynamo_Mishin_2004_NiAl__MO_101214310689_005\"\n",
    "potentialAbbreviation = \"Mishin04\""
   ]
  },
  {
   "cell_type": "code",
   "execution_count": 2,
   "metadata": {},
   "outputs": [],
   "source": [
    "# These 2 write files to relax cells to the lattice parameters of the given potential\n",
    "def stateRelax(outfileName,KIMID,cutDownCell,lammpsDataFileName):\n",
    "    #Once run the output of this file should be used as the input for nebFile\n",
    "    #outfile = \"CutdownBarriers_Mishin04{}_relax_final.lmp\".format((j+1))\n",
    "    f = open(outfileName, \"w\")\n",
    "    input_text = \"kim init \"+KIMID+ \"metal \\n \\\n",
    "            atom_style atomic \\n \\\n",
    "            atom_modify map array sort 0 0.0 \\n \\\n",
    "            read_data \"+cutDownCell+ \"\\n \\\n",
    "            mass 1 26.981539 \\n \\\n",
    "            mass 2 58.6934 \\n \\\n",
    "            kim interactions Al Ni \\n \\\n",
    "            neighbor 0.3 bin \\n \\\n",
    "            neigh_modify delay 0 every 1 check yes \\n \\\n",
    "            fix 1 all box/relax iso 0.0 vmax 0.001 \\n \\\n",
    "            minimize 1.0e-7 1.0e-5 1000 10000 \\n \\\n",
    "            write_data relaxed_\"+lammpsDataFileName\n",
    "    \n",
    "    \n",
    "    f.write(input_text)\n",
    "    \n",
    "\n",
    "    f.close()\n",
    "\n",
    "for j in list1:\n",
    "    stateRelax(potentialAbbreviation+\"step{}_relax_initial.lmp\".format(j),KIMID,\"cutDownCellStep{}initial.txt\".format(j),potentialAbbreviation+\"_step{}initial.txt\".format(j))\n",
    "    stateRelax(potentialAbbreviation+\"step{}_relax_final.lmp\".format(j),KIMID,\"cutDownCellStep{}final.txt\".format(j),potentialAbbreviation+\"_step{}final.txt\".format(j))"
   ]
  },
  {
   "cell_type": "code",
   "execution_count": null,
   "metadata": {},
   "outputs": [],
   "source": [
    "#This cell requires the output from the above cells to be ran in lammps\n",
    "def nebFile(fileName,outputFileName):    \n",
    "    \n",
    "    f = open(outputFileName, \"w\")\n",
    "    f.write(\"255 \\n\")\n",
    "\n",
    "    g = open(fileName , \"r\")\n",
    "    glines = g.readlines()\n",
    "    for i in range(len(glines)-11):\n",
    "        gline = glines[11+i].split()\n",
    "        del gline[1]\n",
    "        fline = gline\n",
    "        #print(fline)\n",
    "        for item in fline:\n",
    "            f.write(\" %s\" % item)\n",
    "        f.write(\"\\n\")\n",
    "\n",
    "    f.close()\n",
    "\n",
    "for j in list1:\n",
    "    nebFile(\"relaxed_\"+potentialAbbreviation+\"_step{}final.txt\".format(j),\"NEBcutstep\"+potentialAbbreviation+\"{}.txt\".format(j)) # This is how it should be used in current context"
   ]
  },
  {
   "cell_type": "code",
   "execution_count": null,
   "metadata": {},
   "outputs": [],
   "source": [
    "# This writes the files for the neb calculation  \n",
    "\n",
    "def nebExcuteable(outfileName,KIMID,initialFile,finalFile):   \n",
    "    f = open(outfileName, \"w\")\n",
    "    input_text = \"kim init\" + KIMID + \"metal \\n \\\n",
    "            atom_style atomic \\n \\\n",
    "            atom_modify map array sort 0 0.0 \\n \\\n",
    "            read_data \"+initialFile+\" \\n \\\n",
    "            mass 1 26.981539 \\n \\\n",
    "            mass 2 58.6934 \\n \\\n",
    "            kim interactions Al Ni \\n \\\n",
    "            neighbor 0.3 bin \\n \\\n",
    "            neigh_modify delay 0 every 1 check yes \\n \\\n",
    "            minimize 1.0e-7 1.0e-5 1000 10000 \\n \\\n",
    "            fix 1 all neb 1.0 parallel ideal #end last/efirst 1 \\n \\\n",
    "            min_style  quickmin \\n \\\n",
    "        neb 1.0e-7 1.0e-5 10000 10000 50 final \"+finalFile # The file in this line is written by nebFile\n",
    "    #print(input_text)\n",
    "    \n",
    "    f.write(input_text)\n",
    "\n",
    "\n",
    "    f.close()\n",
    "\n",
    "    for j in list1:\n",
    "        nebExcuteable(potentialAbbreviation+\"step{}.lmp\".format(j),KIMID,potentialAbbreviation+\"{}_relax_initial.lmp\".format(j),\"NEBcutstep\"+potentialAbbreviation+\"{}.txt\".format(j))"
   ]
  }
 ],
 "metadata": {
  "kernelspec": {
   "display_name": "Python 3 (ipykernel)",
   "language": "python",
   "name": "python3"
  },
  "language_info": {
   "codemirror_mode": {
    "name": "ipython",
    "version": 3
   },
   "file_extension": ".py",
   "mimetype": "text/x-python",
   "name": "python",
   "nbconvert_exporter": "python",
   "pygments_lexer": "ipython3",
   "version": "3.8.10"
  },
  "varInspector": {
   "cols": {
    "lenName": 16,
    "lenType": 16,
    "lenVar": 40
   },
   "kernels_config": {
    "python": {
     "delete_cmd_postfix": "",
     "delete_cmd_prefix": "del ",
     "library": "var_list.py",
     "varRefreshCmd": "print(var_dic_list())"
    },
    "r": {
     "delete_cmd_postfix": ") ",
     "delete_cmd_prefix": "rm(",
     "library": "var_list.r",
     "varRefreshCmd": "cat(var_dic_list()) "
    }
   },
   "oldHeight": 122.85,
   "position": {
    "height": "40px",
    "left": "654px",
    "right": "20px",
    "top": "120px",
    "width": "250px"
   },
   "types_to_exclude": [
    "module",
    "function",
    "builtin_function_or_method",
    "instance",
    "_Feature"
   ],
   "varInspector_section_display": "none",
   "window_display": true
  }
 },
 "nbformat": 4,
 "nbformat_minor": 4
}
