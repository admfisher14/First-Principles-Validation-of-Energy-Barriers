{
 "cells": [
  {
   "cell_type": "code",
   "execution_count": null,
   "metadata": {},
   "outputs": [],
   "source": [
    "import ase\n",
    "from readts import TSFile\n",
    "import matplotlib.pyplot as plt\n",
    "import ase.io.castep as castep\n",
    "\n",
    "import ase\n",
    "import ase.calculators.castep\n",
    "import ase.io.castep\n",
    "from ase.io import write\n",
    "import numpy as np\n",
    "calc = ase.calculators.castep.Castep()\n",
    "calc._prepare_input_only = True"
   ]
  },
  {
   "cell_type": "code",
   "execution_count": null,
   "metadata": {
    "scrolled": true
   },
   "outputs": [],
   "source": [
    "barriers = [109,111,117,119,125,127,131,133,149,151,153,263,265,286,288,294,296,319,321,328,330,332,369,371] # List of barriers to be found\n",
    "barrier = []\n",
    "for i in barriers:\n",
    "    ts2 = TSFile('neb', path='../barrier{}'.format(i)) # Path to folder containing CASTEP NEB files\n",
    "\n",
    "    block = ts2.blocks['TST']\n",
    "    react = ts2.blocks['REA'][1][0]\n",
    "    prod = ts2.blocks['PRO'][1][0]\n",
    "\n",
    "    print(i,len(block.get_steps()))\n",
    "    for k in range(-4,0):\n",
    "        print(k)\n",
    "        j = k%len(block.get_steps())\n",
    "        looper = block[j][:]\n",
    "        \n",
    "        Energies = []\n",
    "        Energies.append(react.atoms.get_potential_energy())\n",
    "        Energies.extend([m.atoms.get_potential_energy() for m in looper])\n",
    "        Energies.append(prod.atoms.get_potential_energy())\n",
    "        saddle = np.max(Energies)\n",
    "        Energies = Energies - np.min(Energies)\n",
    "        b = saddle-react.atoms.get_potential_energy()\n",
    "        print(saddle,react.atoms.get_potential_energy(),prod.atoms.get_potential_energy(),b)\n",
    "\n",
    "    plt.figure()\n",
    "    barrier.append(b)\n",
    "\n",
    "\n",
    "np.save(\"barriers.npy\",barrier)"
   ]
  },
  {
   "cell_type": "code",
   "execution_count": null,
   "metadata": {},
   "outputs": [],
   "source": []
  }
 ],
 "metadata": {
  "kernelspec": {
   "display_name": "Python 3",
   "language": "python",
   "name": "python3"
  },
  "language_info": {
   "codemirror_mode": {
    "name": "ipython",
    "version": 3
   },
   "file_extension": ".py",
   "mimetype": "text/x-python",
   "name": "python",
   "nbconvert_exporter": "python",
   "pygments_lexer": "ipython3",
   "version": "3.8.10"
  },
  "varInspector": {
   "cols": {
    "lenName": 16,
    "lenType": 16,
    "lenVar": 40
   },
   "kernels_config": {
    "python": {
     "delete_cmd_postfix": "",
     "delete_cmd_prefix": "del ",
     "library": "var_list.py",
     "varRefreshCmd": "print(var_dic_list())"
    },
    "r": {
     "delete_cmd_postfix": ") ",
     "delete_cmd_prefix": "rm(",
     "library": "var_list.r",
     "varRefreshCmd": "cat(var_dic_list()) "
    }
   },
   "oldHeight": 122.85,
   "position": {
    "height": "40px",
    "left": "1479px",
    "right": "20px",
    "top": "120px",
    "width": "350px"
   },
   "types_to_exclude": [
    "module",
    "function",
    "builtin_function_or_method",
    "instance",
    "_Feature"
   ],
   "varInspector_section_display": "none",
   "window_display": true
  }
 },
 "nbformat": 4,
 "nbformat_minor": 4
}
